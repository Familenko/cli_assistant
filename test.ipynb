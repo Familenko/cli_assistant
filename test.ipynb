{
 "cells": [
  {
   "cell_type": "code",
   "execution_count": 1,
   "metadata": {},
   "outputs": [],
   "source": [
    "from ChatBot import ChatBot\n",
    "from datetime import datetime, timedelta\n",
    "import colorama\n",
    "from colorama import Fore"
   ]
  },
  {
   "cell_type": "code",
   "execution_count": 2,
   "metadata": {},
   "outputs": [
    {
     "data": {
      "text/plain": [
       "datetime.date(2024, 8, 17)"
      ]
     },
     "execution_count": 2,
     "metadata": {},
     "output_type": "execute_result"
    }
   ],
   "source": [
    "bot = ChatBot()\n",
    "\n",
    "TODAY = datetime.now().date()\n",
    "TODAY"
   ]
  },
  {
   "cell_type": "code",
   "execution_count": 3,
   "metadata": {},
   "outputs": [],
   "source": [
    "def input_hendler(user_input):\n",
    "    try:\n",
    "        command, *args = user_input.split()\n",
    "        return command, args\n",
    "    except:\n",
    "        return False, False"
   ]
  },
  {
   "cell_type": "code",
   "execution_count": 4,
   "metadata": {},
   "outputs": [],
   "source": [
    "test_cases = [\n",
    "    \"add-contact Jon_Dole 2346543567 johndoe@example.com 21.03.1985 Kharkiv\",\n",
    "    \"add-contact Jane_Smith 2346543568 jane.smith@example.com 08.05.1990\",\n",
    "    \"add-contact Emily_Clark 2346543570 emilyc@example.com\",\n",
    "    \"add-contact Mike_Brown 2346543569\",\n",
    "    \"add-contact Chris_Johnson\",\n",
    "\n",
    "    \"show-contacts\",\n",
    "\n",
    "    \"add-phone Jon_Dole 2346543577\",\n",
    "    \"edit-phone Jon_Dole 2346543567 2346543578\",\n",
    "    \"find-contact Jon_Dole\",\n",
    "\n",
    "    \"add-email Jon_Dole doe@example.com\",\n",
    "    \"edit-email Jon_Dole johndoe@example.com doe.john@example.com\",\n",
    "    \"find-contact Jon_Dole\",\n",
    "\n",
    "    \"add-birthday Jon_Dole 15.05.1990\",\n",
    "    f\"edit-birthday Jon_Dole {(TODAY - timedelta(days=10 * 365)).strftime('%d.%m.%Y')}\",\n",
    "    \"find-closest-birthday\",\n",
    "    \"find-contact Jon_Dole\",\n",
    "\n",
    "    \"add-address Jon_Dole Odesa\",\n",
    "    \"edit-address Jon_Dole Kyiv\",\n",
    "    \"find-contact Jon_Dole\",\n",
    "\n",
    "    \"delete-phone Jon_Dole 2346543577\",\n",
    "    \"delete-email Jon_Dole doe@example.com\",\n",
    "    \"delete-birthday Jon_Dole\",\n",
    "    \"delete-address Jon_Dole\",\n",
    "    \"find-contact Jon_Dole\",\n",
    "\n",
    "    \"delete-contact Jon_Dole\",\n",
    "    \"show-contacts\",\n",
    "]"
   ]
  },
  {
   "cell_type": "code",
   "execution_count": 5,
   "metadata": {},
   "outputs": [
    {
     "name": "stdout",
     "output_type": "stream",
     "text": [
      "\u001b[32mInput: add-contact Jon_Dole 2346543567 johndoe@example.com 21.03.1985 Kharkiv\u001b[39m\n",
      "Contact Jon_Dole added\n",
      "\u001b[32mInput: add-contact Jane_Smith 2346543568 jane.smith@example.com 08.05.1990\u001b[39m\n",
      "Contact Jane_Smith added\n",
      "\u001b[32mInput: add-contact Emily_Clark 2346543570 emilyc@example.com\u001b[39m\n",
      "Contact Emily_Clark added\n",
      "\u001b[32mInput: add-contact Mike_Brown 2346543569\u001b[39m\n",
      "Contact Mike_Brown added\n",
      "\u001b[32mInput: add-contact Chris_Johnson\u001b[39m\n",
      "Contact Chris_Johnson added\n",
      "\u001b[32mInput: show-contacts\u001b[39m\n",
      "+---------------+------------+------------+------------------------+-----------+\n",
      "| Name          | Phones     | Birthday   | Emails                 | Address   |\n",
      "+===============+============+============+========================+===========+\n",
      "| Lesha         |            | 20.08.1994 |                        |           |\n",
      "+---------------+------------+------------+------------------------+-----------+\n",
      "| Jon_Dole      | 2346543567 | 21.03.1985 | johndoe@example.com    | Kharkiv   |\n",
      "+---------------+------------+------------+------------------------+-----------+\n",
      "| Jane_Smith    | 2346543568 | 08.05.1990 | jane.smith@example.com |           |\n",
      "+---------------+------------+------------+------------------------+-----------+\n",
      "| Emily_Clark   | 2346543570 |            | emilyc@example.com     |           |\n",
      "+---------------+------------+------------+------------------------+-----------+\n",
      "| Mike_Brown    | 2346543569 |            |                        |           |\n",
      "+---------------+------------+------------+------------------------+-----------+\n",
      "| Chris_Johnson |            |            |                        |           |\n",
      "+---------------+------------+------------+------------------------+-----------+\n",
      "\u001b[32mInput: add-phone Jon_Dole 2346543577\u001b[39m\n",
      "Phone number added for Jon_Dole\n",
      "\u001b[32mInput: edit-phone Jon_Dole 2346543567 2346543578\u001b[39m\n",
      "Phone number updated for Jon_Dole\n",
      "\u001b[32mInput: find-contact Jon_Dole\u001b[39m\n",
      "+----------+------------------------+------------+---------------------+-----------+\n",
      "| Name     | Phones                 | Birthday   | Emails              | Address   |\n",
      "+==========+========================+============+=====================+===========+\n",
      "| Jon_Dole | 2346543578, 2346543577 | 21.03.1985 | johndoe@example.com | Kharkiv   |\n",
      "+----------+------------------------+------------+---------------------+-----------+\n",
      "\u001b[32mInput: add-email Jon_Dole doe@example.com\u001b[39m\n",
      "Email added for Jon_Dole\n",
      "\u001b[32mInput: edit-email Jon_Dole johndoe@example.com doe.john@example.com\u001b[39m\n",
      "Email updated for Jon_Dole\n",
      "\u001b[32mInput: find-contact Jon_Dole\u001b[39m\n",
      "+----------+------------------------+------------+---------------------------------------+-----------+\n",
      "| Name     | Phones                 | Birthday   | Emails                                | Address   |\n",
      "+==========+========================+============+=======================================+===========+\n",
      "| Jon_Dole | 2346543578, 2346543577 | 21.03.1985 | doe.john@example.com, doe@example.com | Kharkiv   |\n",
      "+----------+------------------------+------------+---------------------------------------+-----------+\n",
      "\u001b[32mInput: add-birthday Jon_Dole 15.05.1990\u001b[39m\n",
      "\u001b[31mError: Birthday already exists\u001b[39m\n",
      "\u001b[32mInput: edit-birthday Jon_Dole 20.08.2014\u001b[39m\n",
      "Birthday updated for contact Jon_Dole\n",
      "\u001b[32mInput: find-closest-birthday\u001b[39m\n",
      "+----------+------------+\n",
      "| Name     | Birthday   |\n",
      "+==========+============+\n",
      "| Lesha    | 20.08.1994 |\n",
      "+----------+------------+\n",
      "| Jon_Dole | 20.08.2014 |\n",
      "+----------+------------+\n",
      "\u001b[32mInput: find-contact Jon_Dole\u001b[39m\n",
      "+----------+------------------------+------------+---------------------------------------+-----------+\n",
      "| Name     | Phones                 | Birthday   | Emails                                | Address   |\n",
      "+==========+========================+============+=======================================+===========+\n",
      "| Jon_Dole | 2346543578, 2346543577 | 20.08.2014 | doe.john@example.com, doe@example.com | Kharkiv   |\n",
      "+----------+------------------------+------------+---------------------------------------+-----------+\n",
      "\u001b[32mInput: add-address Jon_Dole Odesa\u001b[39m\n",
      "\u001b[31mError: Address already exists\u001b[39m\n",
      "\u001b[32mInput: edit-address Jon_Dole Kyiv\u001b[39m\n",
      "Address updated for contact Jon_Dole\n",
      "\u001b[32mInput: find-contact Jon_Dole\u001b[39m\n",
      "+----------+------------------------+------------+---------------------------------------+-----------+\n",
      "| Name     | Phones                 | Birthday   | Emails                                | Address   |\n",
      "+==========+========================+============+=======================================+===========+\n",
      "| Jon_Dole | 2346543578, 2346543577 | 20.08.2014 | doe.john@example.com, doe@example.com | Kyiv      |\n",
      "+----------+------------------------+------------+---------------------------------------+-----------+\n",
      "\u001b[32mInput: delete-phone Jon_Dole 2346543577\u001b[39m\n",
      "Phone number deleted for Jon_Dole\n",
      "\u001b[32mInput: delete-email Jon_Dole doe@example.com\u001b[39m\n",
      "Email deleted for Jon_Dole\n",
      "\u001b[32mInput: delete-birthday Jon_Dole\u001b[39m\n",
      "Birthday deleted\n",
      "\u001b[32mInput: delete-address Jon_Dole\u001b[39m\n",
      "Address deleted\n",
      "\u001b[32mInput: find-contact Jon_Dole\u001b[39m\n",
      "+----------+------------+------------+----------------------+-----------+\n",
      "| Name     |     Phones | Birthday   | Emails               | Address   |\n",
      "+==========+============+============+======================+===========+\n",
      "| Jon_Dole | 2346543578 |            | doe.john@example.com |           |\n",
      "+----------+------------+------------+----------------------+-----------+\n",
      "\u001b[32mInput: delete-contact Jon_Dole\u001b[39m\n",
      "Contact Jon_Dole deleted\n",
      "\u001b[32mInput: show-contacts\u001b[39m\n",
      "+---------------+------------+------------+------------------------+-----------+\n",
      "| Name          | Phones     | Birthday   | Emails                 | Address   |\n",
      "+===============+============+============+========================+===========+\n",
      "| Lesha         |            | 20.08.1994 |                        |           |\n",
      "+---------------+------------+------------+------------------------+-----------+\n",
      "| Jane_Smith    | 2346543568 | 08.05.1990 | jane.smith@example.com |           |\n",
      "+---------------+------------+------------+------------------------+-----------+\n",
      "| Emily_Clark   | 2346543570 |            | emilyc@example.com     |           |\n",
      "+---------------+------------+------------+------------------------+-----------+\n",
      "| Mike_Brown    | 2346543569 |            |                        |           |\n",
      "+---------------+------------+------------+------------------------+-----------+\n",
      "| Chris_Johnson |            |            |                        |           |\n",
      "+---------------+------------+------------+------------------------+-----------+\n"
     ]
    }
   ],
   "source": [
    "for user_input in test_cases:\n",
    "    print(Fore.GREEN + f\"Input: {user_input}\" + Fore.RESET)\n",
    "    command, args = input_hendler(user_input)\n",
    "    if not command or command not in bot.commands:\n",
    "        print(Fore.RED + \"Invalid command\" + Fore.RESET)\n",
    "    else:\n",
    "        if command in bot.commands:\n",
    "            try:\n",
    "                bot.commands[command](*args)\n",
    "            except Exception as e:\n",
    "                print(Fore.RED + f\"Error: {e}\" + Fore.RESET)"
   ]
  },
  {
   "cell_type": "code",
   "execution_count": 6,
   "metadata": {},
   "outputs": [],
   "source": [
    "bot2 = ChatBot()"
   ]
  },
  {
   "cell_type": "code",
   "execution_count": 7,
   "metadata": {},
   "outputs": [],
   "source": [
    "test_cases2 = [\n",
    "    \"add-note Meeting\",\n",
    "    \"show-notes\",\n",
    "    \"add-tag-to-note Meeting test\",\n",
    "    \"find-note Meeting\",\n",
    "    \"search-notes-by-tag test\",\n",
    "]"
   ]
  },
  {
   "cell_type": "code",
   "execution_count": 8,
   "metadata": {},
   "outputs": [
    {
     "name": "stdout",
     "output_type": "stream",
     "text": [
      "\u001b[32mInput: add-note Meeting\u001b[39m\n",
      "\u001b[32mInput: show-notes\u001b[39m\n",
      "Title: rer\n",
      "Text: (note appears to be empty)\n",
      "Tags: test\n",
      "Title: ter1\n",
      "Text: (note appears to be empty)\n",
      "Tags: (no tags assigned)\n",
      "Title: Meeting\n",
      "Text: (note appears to be empty)\n",
      "Tags: (no tags assigned)\n",
      "\u001b[32mInput: add-tag-to-note Meeting test\u001b[39m\n",
      "\u001b[32mInput: find-note Meeting\u001b[39m\n",
      "Title: Meeting\n",
      "Text: (note appears to be empty)\n",
      "Tags: test\n",
      "\u001b[32mInput: search-notes-by-tag test\u001b[39m\n",
      "rer\n",
      "Meeting\n"
     ]
    }
   ],
   "source": [
    "for user_input in test_cases2:\n",
    "    print(Fore.GREEN + f\"Input: {user_input}\" + Fore.RESET)\n",
    "    command, args = input_hendler(user_input)\n",
    "    if not command or command not in bot2.commands:\n",
    "        print(Fore.RED + \"Invalid command\" + Fore.RESET)\n",
    "    else:\n",
    "        if command in bot.commands:\n",
    "            try:\n",
    "                bot.commands[command](*args)\n",
    "            except Exception as e:\n",
    "                print(Fore.RED + f\"Error: {e}\" + Fore.RESET)"
   ]
  },
  {
   "cell_type": "code",
   "execution_count": null,
   "metadata": {},
   "outputs": [],
   "source": []
  }
 ],
 "metadata": {
  "kernelspec": {
   "display_name": "Python 3",
   "language": "python",
   "name": "python3"
  },
  "language_info": {
   "codemirror_mode": {
    "name": "ipython",
    "version": 3
   },
   "file_extension": ".py",
   "mimetype": "text/x-python",
   "name": "python",
   "nbconvert_exporter": "python",
   "pygments_lexer": "ipython3",
   "version": "3.11.3"
  }
 },
 "nbformat": 4,
 "nbformat_minor": 2
}
